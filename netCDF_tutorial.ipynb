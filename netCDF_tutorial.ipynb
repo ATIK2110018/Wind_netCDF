{
  "cells": [
    {
      "cell_type": "markdown",
      "metadata": {
        "id": "view-in-github",
        "colab_type": "text"
      },
      "source": [
        "<a href=\"https://colab.research.google.com/github/ATIK2110018/Wind_netCDF/blob/main/netCDF_tutorial.ipynb\" target=\"_parent\"><img src=\"https://colab.research.google.com/assets/colab-badge.svg\" alt=\"Open In Colab\"/></a>"
      ]
    },
    {
      "cell_type": "code",
      "source": [
        "!pip install xarray matplotlib cartopy imageio -q"
      ],
      "metadata": {
        "id": "YJRvDVscAZRg"
      },
      "id": "YJRvDVscAZRg",
      "execution_count": 13,
      "outputs": []
    },
    {
      "cell_type": "code",
      "source": [
        "import xarray as xr\n",
        "import numpy as np\n",
        "import matplotlib.pyplot as plt\n",
        "import cartopy.crs as ccrs\n",
        "import cartopy.feature as cfeature\n",
        "import imageio\n",
        "import os\n",
        "\n",
        "ds = xr.open_dataset(\"/content/coast_wind_1.nc\")\n",
        "u = ds['u10']\n",
        "v = ds['v10']\n",
        "lat = ds['latitude']\n",
        "lon = ds['longitude']\n",
        "time = ds['valid_time']\n",
        "\n",
        "output_folder = \"wind_gif_frames\"\n",
        "os.makedirs(output_folder, exist_ok=True)\n",
        "\n",
        "filenames = []\n",
        "for i in range(len(time)):\n",
        "    u_t = u[i, :, :]\n",
        "    v_t = v[i, :, :]\n",
        "    speed = np.sqrt(u_t**2 + v_t**2)\n",
        "\n",
        "    fig = plt.figure(figsize=(16, 9), facecolor='black')\n",
        "    ax = plt.axes(projection=ccrs.PlateCarree())\n",
        "    ax.set_extent([83.5, 95.5, 19.5, 27], crs=ccrs.PlateCarree())\n",
        "    ax.set_facecolor(\"black\")\n",
        "    ax.coastlines(color='white', linewidth=0.25)\n",
        "    ax.add_feature(cfeature.BORDERS, edgecolor='white', linewidth=0.25)\n",
        "    ax.add_feature(cfeature.LAND, facecolor='black')\n",
        "    ax.add_feature(cfeature.OCEAN, facecolor='black')\n",
        "\n",
        "    gl = ax.gridlines(draw_labels=True, color='gray', alpha=0.5, linestyle='--', linewidth=0.5)\n",
        "    gl.top_labels = False\n",
        "    gl.right_labels = False\n",
        "    gl.xlabel_style = {'color': 'white'}\n",
        "    gl.ylabel_style = {'color': 'white'}\n",
        "\n",
        "    strm = ax.streamplot(\n",
        "        lon, lat, u_t, v_t,\n",
        "        color=speed.values,\n",
        "        cmap='jet',\n",
        "        linewidth=0.4,\n",
        "        density=1.6,\n",
        "        arrowsize=.8,\n",
        "        transform=ccrs.PlateCarree()\n",
        "    )\n",
        "\n",
        "    timestamp = np.datetime_as_string(time[i].values, unit='h')\n",
        "    ax.set_title(f\"10m Wind Streamlines over Bangladesh \\n{timestamp}\",\n",
        "                 fontsize=14, color='white', pad=20)\n",
        "\n",
        "    cbar = fig.colorbar(strm.lines, ax=ax, orientation='vertical', shrink=0.7, pad=0.03)\n",
        "    cbar.set_label(\"Wind Speed (m/s)\", color='white')\n",
        "    cbar.ax.tick_params(labelcolor='white')\n",
        "\n",
        "    fname = os.path.join(output_folder, f\"frame_{i:02d}.png\")\n",
        "    plt.savefig(fname, facecolor='black')\n",
        "    filenames.append(fname)\n",
        "    plt.close()\n",
        "\n",
        "mp4_path = \"coast_wind.mp4\"\n",
        "with imageio.get_writer(\n",
        "    mp4_path,\n",
        "    format=\"ffmpeg\",\n",
        "    mode=\"I\",\n",
        "    fps=1,\n",
        "    codec=\"libx264\",\n",
        "    bitrate=\"8M\"\n",
        ") as writer:\n",
        "    for filename in filenames:\n",
        "        writer.append_data(imageio.imread(filename))\n",
        "\n",
        "print(f\"✅ MP4 saved to: {mp4_path}\")\n"
      ],
      "metadata": {
        "colab": {
          "base_uri": "https://localhost:8080/"
        },
        "id": "9UKCTpn-ngfj",
        "outputId": "eebac643-228e-45e5-a0d0-98cec059c74c"
      },
      "id": "9UKCTpn-ngfj",
      "execution_count": 46,
      "outputs": [
        {
          "output_type": "stream",
          "name": "stderr",
          "text": [
            "WARNING:imageio_ffmpeg:IMAGEIO FFMPEG_WRITER WARNING: input image is not divisible by macro_block_size=16, resizing from (1600, 900) to (1600, 912) to ensure video compatibility with most codecs and players. To prevent resizing, make your input image divisible by the macro_block_size or set the macro_block_size to 1 (risking incompatibility).\n"
          ]
        },
        {
          "output_type": "stream",
          "name": "stdout",
          "text": [
            "✅ MP4 saved to: coast_wind.mp4\n"
          ]
        }
      ]
    },
    {
      "cell_type": "code",
      "source": [],
      "metadata": {
        "id": "Sig7e0xbu3cE"
      },
      "id": "Sig7e0xbu3cE",
      "execution_count": null,
      "outputs": []
    }
  ],
  "metadata": {
    "kernelspec": {
      "display_name": "Python 3",
      "language": "python",
      "name": "python3"
    },
    "language_info": {
      "name": "python"
    },
    "colab": {
      "provenance": [],
      "include_colab_link": true
    }
  },
  "nbformat": 4,
  "nbformat_minor": 5
}